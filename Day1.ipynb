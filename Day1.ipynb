{
 "cells": [
  {
   "cell_type": "markdown",
   "metadata": {},
   "source": [
    "## Start of the learning \n",
    "Scikit learn implements many machine learing\n",
    "algorithm  and led my frend institue of research\\\\\n",
    "1. a litttle traditional, provides tools for algorithm like classification, regresssion, clustering, dimensionality reduction, and model selection \n",
    "2 . more suitable for classic machine learnign tasks, not suited for deep learning and neural network\n"
   ]
  },
  {
   "cell_type": "markdown",
   "metadata": {},
   "source": [
    "Tensorflow more complex library thank scikit learn.  Makes it possible\n",
    "to train and run very large neural networks  by distributing computation power among multiple gpu's\n",
    "Created by google, and support many large scale machine learning applications\n",
    "1.its a open source ML and deep learning framework, flexible for deep learning models\n",
    "2.can be used for both traditional machine learning deep learning tasks\n",
    "  \n"
   ]
  },
  {
   "cell_type": "markdown",
   "metadata": {},
   "source": [
    "Keras, high level deep learning API, makes it very simple to train and\n",
    "run neural networ`mk, comes with bundled with TensorFlow , and relies on TensorFlow\n",
    "1.open source deep learning library, integrated with tensorflow due to its high level API"
   ]
  },
  {
   "cell_type": "markdown",
   "metadata": {},
   "source": [
    "Digging into large amounts of data to find pattern is Data Mining\n",
    "simplying data without losing too much information, for example if two variables\n",
    "    are highly correlated, merging them into one using dimensionality reduction\n",
    "is one example of feature extraction.\n",
    "\n",
    "(benifts of feature extraction: low disk space, fater performance, mayperform better)"
   ]
  },
  {
   "cell_type": "markdown",
   "metadata": {},
   "source": [
    "Semi supervised: combination of both supervised and unsupervised: half the data is labeled and other half unlabeled.\n",
    "\n",
    "self_supervised: a cat image that is masked as input, full cat image as output , machine learns and produces full image \n",
    "\n",
    "transfer learning: transferring knowledge from one task to another. for example, if a ML model was previously filling up masked part of the cat, now it can use it classify it as dog cat etc\n",
    "\n",
    "batch learning: system is incapable of learning incrementally, First the system is trained, and then it is launched into production and runs without learning anymore; it just applies what it has learned. This is called offline learning. \n",
    "\n",
    "online learning: system learns from mini batches. if you require updates\n",
    "rapidly online learning is best but its prone to error. for example if wrong data is produced from faulty instreument, the update will be unreliable"
   ]
  },
  {
   "cell_type": "markdown",
   "metadata": {},
   "source": [
    "Instance Based Vs Model Based"
   ]
  }
 ],
 "metadata": {
  "kernelspec": {
   "display_name": "base",
   "language": "python",
   "name": "python3"
  },
  "language_info": {
   "codemirror_mode": {
    "name": "ipython",
    "version": 3
   },
   "file_extension": ".py",
   "mimetype": "text/x-python",
   "name": "python",
   "nbconvert_exporter": "python",
   "pygments_lexer": "ipython3",
   "version": "3.8.8"
  }
 },
 "nbformat": 4,
 "nbformat_minor": 2
}
